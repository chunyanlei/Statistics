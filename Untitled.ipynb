{
 "cells": [
  {
   "cell_type": "markdown",
   "metadata": {},
   "source": [
    "# Problem Set 9#"
   ]
  },
  {
   "cell_type": "markdown",
   "metadata": {},
   "source": [
    "## 1. ##\n",
    "$$ R_{ULt} - R_{ft} = \\alpha + \\beta(R_{mt} - R_{ft}) + e_t $$"
   ]
  },
  {
   "cell_type": "code",
   "execution_count": 1,
   "metadata": {},
   "outputs": [],
   "source": [
    "import pandas as pd\n",
    "import numpy as np\n",
    "from numpy import * \n",
    "import math\n",
    "import matplotlib.pyplot as plt\n",
    "import statsmodels.api as sm\n",
    "import pylab\n",
    "from scipy.stats import t\n",
    "from scipy.stats import chi2"
   ]
  },
  {
   "cell_type": "code",
   "execution_count": 2,
   "metadata": {},
   "outputs": [],
   "source": [
    "data = pd.read_csv(\"Data_PG_UL.csv\", index_col = 0)"
   ]
  },
  {
   "cell_type": "code",
   "execution_count": 3,
   "metadata": {},
   "outputs": [
    {
     "data": {
      "text/html": [
       "<div>\n",
       "<style scoped>\n",
       "    .dataframe tbody tr th:only-of-type {\n",
       "        vertical-align: middle;\n",
       "    }\n",
       "\n",
       "    .dataframe tbody tr th {\n",
       "        vertical-align: top;\n",
       "    }\n",
       "\n",
       "    .dataframe thead th {\n",
       "        text-align: right;\n",
       "    }\n",
       "</style>\n",
       "<table border=\"1\" class=\"dataframe\">\n",
       "  <thead>\n",
       "    <tr style=\"text-align: right;\">\n",
       "      <th></th>\n",
       "      <th>Mkt-RF</th>\n",
       "      <th>HH</th>\n",
       "      <th>PG</th>\n",
       "      <th>UL</th>\n",
       "      <th>RF</th>\n",
       "    </tr>\n",
       "    <tr>\n",
       "      <th>date</th>\n",
       "      <th></th>\n",
       "      <th></th>\n",
       "      <th></th>\n",
       "      <th></th>\n",
       "      <th></th>\n",
       "    </tr>\n",
       "  </thead>\n",
       "  <tbody>\n",
       "    <tr>\n",
       "      <th>199312</th>\n",
       "      <td>0.0165</td>\n",
       "      <td>0.0484</td>\n",
       "      <td>0.004405</td>\n",
       "      <td>0.047053</td>\n",
       "      <td>0.0023</td>\n",
       "    </tr>\n",
       "    <tr>\n",
       "      <th>199401</th>\n",
       "      <td>0.0287</td>\n",
       "      <td>0.0434</td>\n",
       "      <td>0.049298</td>\n",
       "      <td>0.028269</td>\n",
       "      <td>0.0025</td>\n",
       "    </tr>\n",
       "    <tr>\n",
       "      <th>199402</th>\n",
       "      <td>-0.0256</td>\n",
       "      <td>-0.0163</td>\n",
       "      <td>-0.033613</td>\n",
       "      <td>-0.049828</td>\n",
       "      <td>0.0021</td>\n",
       "    </tr>\n",
       "    <tr>\n",
       "      <th>199403</th>\n",
       "      <td>-0.0478</td>\n",
       "      <td>-0.0567</td>\n",
       "      <td>-0.069565</td>\n",
       "      <td>-0.113924</td>\n",
       "      <td>0.0027</td>\n",
       "    </tr>\n",
       "    <tr>\n",
       "      <th>199404</th>\n",
       "      <td>0.0068</td>\n",
       "      <td>-0.0098</td>\n",
       "      <td>0.068879</td>\n",
       "      <td>0.092220</td>\n",
       "      <td>0.0027</td>\n",
       "    </tr>\n",
       "  </tbody>\n",
       "</table>\n",
       "</div>"
      ],
      "text/plain": [
       "        Mkt-RF      HH        PG        UL      RF\n",
       "date                                              \n",
       "199312  0.0165  0.0484  0.004405  0.047053  0.0023\n",
       "199401  0.0287  0.0434  0.049298  0.028269  0.0025\n",
       "199402 -0.0256 -0.0163 -0.033613 -0.049828  0.0021\n",
       "199403 -0.0478 -0.0567 -0.069565 -0.113924  0.0027\n",
       "199404  0.0068 -0.0098  0.068879  0.092220  0.0027"
      ]
     },
     "execution_count": 3,
     "metadata": {},
     "output_type": "execute_result"
    }
   ],
   "source": [
    "data.head()"
   ]
  },
  {
   "cell_type": "code",
   "execution_count": 4,
   "metadata": {},
   "outputs": [
    {
     "data": {
      "text/plain": [
       "Index(['Mkt-RF', 'HH', 'PG', 'UL', 'RF'], dtype='object')"
      ]
     },
     "execution_count": 4,
     "metadata": {},
     "output_type": "execute_result"
    }
   ],
   "source": [
    "data.columns"
   ]
  },
  {
   "cell_type": "code",
   "execution_count": 5,
   "metadata": {},
   "outputs": [],
   "source": [
    "data['ULt-RF'] = data[\"UL\"] - data[\"RF\"]"
   ]
  },
  {
   "cell_type": "code",
   "execution_count": 6,
   "metadata": {},
   "outputs": [
    {
     "data": {
      "text/html": [
       "<div>\n",
       "<style scoped>\n",
       "    .dataframe tbody tr th:only-of-type {\n",
       "        vertical-align: middle;\n",
       "    }\n",
       "\n",
       "    .dataframe tbody tr th {\n",
       "        vertical-align: top;\n",
       "    }\n",
       "\n",
       "    .dataframe thead th {\n",
       "        text-align: right;\n",
       "    }\n",
       "</style>\n",
       "<table border=\"1\" class=\"dataframe\">\n",
       "  <thead>\n",
       "    <tr style=\"text-align: right;\">\n",
       "      <th></th>\n",
       "      <th>Mkt-RF</th>\n",
       "      <th>HH</th>\n",
       "      <th>PG</th>\n",
       "      <th>UL</th>\n",
       "      <th>RF</th>\n",
       "      <th>ULt-RF</th>\n",
       "    </tr>\n",
       "    <tr>\n",
       "      <th>date</th>\n",
       "      <th></th>\n",
       "      <th></th>\n",
       "      <th></th>\n",
       "      <th></th>\n",
       "      <th></th>\n",
       "      <th></th>\n",
       "    </tr>\n",
       "  </thead>\n",
       "  <tbody>\n",
       "    <tr>\n",
       "      <th>199312</th>\n",
       "      <td>0.0165</td>\n",
       "      <td>0.0484</td>\n",
       "      <td>0.004405</td>\n",
       "      <td>0.047053</td>\n",
       "      <td>0.0023</td>\n",
       "      <td>0.044753</td>\n",
       "    </tr>\n",
       "    <tr>\n",
       "      <th>199401</th>\n",
       "      <td>0.0287</td>\n",
       "      <td>0.0434</td>\n",
       "      <td>0.049298</td>\n",
       "      <td>0.028269</td>\n",
       "      <td>0.0025</td>\n",
       "      <td>0.025769</td>\n",
       "    </tr>\n",
       "    <tr>\n",
       "      <th>199402</th>\n",
       "      <td>-0.0256</td>\n",
       "      <td>-0.0163</td>\n",
       "      <td>-0.033613</td>\n",
       "      <td>-0.049828</td>\n",
       "      <td>0.0021</td>\n",
       "      <td>-0.051928</td>\n",
       "    </tr>\n",
       "    <tr>\n",
       "      <th>199403</th>\n",
       "      <td>-0.0478</td>\n",
       "      <td>-0.0567</td>\n",
       "      <td>-0.069565</td>\n",
       "      <td>-0.113924</td>\n",
       "      <td>0.0027</td>\n",
       "      <td>-0.116624</td>\n",
       "    </tr>\n",
       "    <tr>\n",
       "      <th>199404</th>\n",
       "      <td>0.0068</td>\n",
       "      <td>-0.0098</td>\n",
       "      <td>0.068879</td>\n",
       "      <td>0.092220</td>\n",
       "      <td>0.0027</td>\n",
       "      <td>0.089520</td>\n",
       "    </tr>\n",
       "  </tbody>\n",
       "</table>\n",
       "</div>"
      ],
      "text/plain": [
       "        Mkt-RF      HH        PG        UL      RF    ULt-RF\n",
       "date                                                        \n",
       "199312  0.0165  0.0484  0.004405  0.047053  0.0023  0.044753\n",
       "199401  0.0287  0.0434  0.049298  0.028269  0.0025  0.025769\n",
       "199402 -0.0256 -0.0163 -0.033613 -0.049828  0.0021 -0.051928\n",
       "199403 -0.0478 -0.0567 -0.069565 -0.113924  0.0027 -0.116624\n",
       "199404  0.0068 -0.0098  0.068879  0.092220  0.0027  0.089520"
      ]
     },
     "execution_count": 6,
     "metadata": {},
     "output_type": "execute_result"
    }
   ],
   "source": [
    "data.head()"
   ]
  },
  {
   "cell_type": "code",
   "execution_count": 7,
   "metadata": {},
   "outputs": [],
   "source": [
    "X = data[\"Mkt-RF\"]\n",
    "Y = data[\"ULt-RF\"]"
   ]
  },
  {
   "cell_type": "code",
   "execution_count": 8,
   "metadata": {},
   "outputs": [
    {
     "data": {
      "text/plain": [
       "matrix([[241.        ,   1.5004    ],\n",
       "        [  1.5004    ,   0.49797688]])"
      ]
     },
     "execution_count": 8,
     "metadata": {},
     "output_type": "execute_result"
    }
   ],
   "source": [
    "xMat = np.mat(X).T\n",
    "yMat = np.mat(Y).transpose()\n",
    "intercept = np.ones((X.shape[0], 1))\n",
    "xMat = np.concatenate((intercept, xMat), axis = 1)\n",
    "xTx = xMat.transpose()*xMat #X'X\n",
    "n = xMat.shape[0]\n",
    "k = xMat.shape[1]\n",
    "xTx"
   ]
  },
  {
   "cell_type": "markdown",
   "metadata": {},
   "source": [
    "### (a). ###"
   ]
  },
  {
   "cell_type": "markdown",
   "metadata": {},
   "source": [
    "calculate coefficient estimates\n",
    "$$(X'X)^{-1}X'Y$$"
   ]
  },
  {
   "cell_type": "code",
   "execution_count": 9,
   "metadata": {},
   "outputs": [],
   "source": [
    "b_ols = np.linalg.inv(xTx)*xMat.transpose()*yMat"
   ]
  },
  {
   "cell_type": "code",
   "execution_count": 10,
   "metadata": {},
   "outputs": [
    {
     "data": {
      "text/plain": [
       "(241, 2)"
      ]
     },
     "execution_count": 10,
     "metadata": {},
     "output_type": "execute_result"
    }
   ],
   "source": [
    "xMat.shape"
   ]
  },
  {
   "cell_type": "code",
   "execution_count": 11,
   "metadata": {},
   "outputs": [
    {
     "name": "stdout",
     "output_type": "stream",
     "text": [
      "alpha = 0.0055\n",
      "beta = 0.5107\n"
     ]
    }
   ],
   "source": [
    "for i in range(xMat.shape[1]):\n",
    "    if i == 0:\n",
    "        print(\"alpha = %.4f\"%b_ols[i])\n",
    "    elif i == 1:\n",
    "        print(\"beta = %.4f\"%b_ols[i])\n",
    "    elif i == 2:\n",
    "        print(\"gamma = %.4f\"%b_ols[i])"
   ]
  },
  {
   "cell_type": "markdown",
   "metadata": {},
   "source": [
    "caculate $R^2, \\bar{R}^2$"
   ]
  },
  {
   "cell_type": "code",
   "execution_count": 12,
   "metadata": {},
   "outputs": [
    {
     "name": "stdout",
     "output_type": "stream",
     "text": [
      "R-squared is 0.1300\n",
      "Adjusted R-squared is 0.1227\n"
     ]
    }
   ],
   "source": [
    "y_hat = np.dot(xMat, b_ols)\n",
    "epsilon = yMat - y_hat\n",
    "\n",
    "spread = yMat - yMat.mean()\n",
    "\n",
    "Rsquared = 1 - np.sum(np.square(epsilon))/np.sum(np.square(spread))\n",
    "Radjusted = Rsquared - (1 - Rsquared)*xMat.shape[1]/(xMat.shape[0]-xMat.shape[1]-1)\n",
    "\n",
    "print(\"R-squared is %.4f\" % Rsquared)\n",
    "print(\"Adjusted R-squared is %.4f\" % Radjusted)"
   ]
  },
  {
   "cell_type": "markdown",
   "metadata": {},
   "source": [
    "### (b). ###\n",
    "Construct a scatterplot of UL returns (on the y-axis) and CRSP-VW returns (on the x-axis) as well as the regression line."
   ]
  },
  {
   "cell_type": "code",
   "execution_count": 13,
   "metadata": {},
   "outputs": [
    {
     "data": {
      "text/plain": [
       "<matplotlib.collections.PathCollection at 0x1c229a6048>"
      ]
     },
     "execution_count": 13,
     "metadata": {},
     "output_type": "execute_result"
    },
    {
     "data": {
      "image/png": "[encoded data removed]",
      "text/plain": [
       "<matplotlib.figure.Figure at 0x1c1af760b8>"
      ]
     },
     "metadata": {},
     "output_type": "display_data"
    }
   ],
   "source": [
    "xx = np.linspace(min(X), max(X))\n",
    "yy = np.array(b_ols[1]*xx + b_ols[0])[0]\n",
    "\n",
    "plt.plot(xx,yy,'k-')\n",
    "plt.xlabel(\"Mkt-RF returns\")\n",
    "plt.ylabel(\"UL returns\")\n",
    "plt.title(\"OLS Regression of UL returns on Mkt-RF\")\n",
    "plt.scatter(X,Y,cmap=plt.cm.Paired)"
   ]
  },
  {
   "cell_type": "markdown",
   "metadata": {},
   "source": [
    "### (c). ###\n",
    "Compute the variance-covariance matrix of the OLS coefficients under the assumption of homoskedasticity."
   ]
  },
  {
   "cell_type": "code",
   "execution_count": 14,
   "metadata": {},
   "outputs": [
    {
     "data": {
      "text/plain": [
       "matrix([[ 1.49621933e-05, -4.50809579e-05],\n",
       "        [-4.50809579e-05,  7.24107629e-03]])"
      ]
     },
     "execution_count": 14,
     "metadata": {},
     "output_type": "execute_result"
    }
   ],
   "source": [
    "sigma_squared = np.var(epsilon)\n",
    "V_homo = np.linalg.inv(xTx)*sigma_squared\n",
    "V_homo"
   ]
  },
  {
   "cell_type": "markdown",
   "metadata": {},
   "source": [
    "### (d). ###\n",
    "Use t-tests to test the null hypothesis that each regression coefficient is individually equal to 0."
   ]
  },
  {
   "cell_type": "code",
   "execution_count": 15,
   "metadata": {},
   "outputs": [
    {
     "name": "stderr",
     "output_type": "stream",
     "text": [
      "/Users/leichunyan/anaconda3/lib/python3.6/site-packages/ipykernel_launcher.py:1: RuntimeWarning: invalid value encountered in sqrt\n",
      "  \"\"\"Entry point for launching an IPython kernel.\n"
     ]
    },
    {
     "data": {
      "text/plain": [
       "matrix([[0.0038681 , 0.        ],\n",
       "        [0.        , 0.08509451]])"
      ]
     },
     "execution_count": 15,
     "metadata": {},
     "output_type": "execute_result"
    }
   ],
   "source": [
    "std_error = np.sqrt(np.linalg.inv(xTx)*sigma_squared)\n",
    "where_are_NaNs_1 = isnan(std_error)\n",
    "std_error[where_are_NaNs_1] = 0  # fill nan\n",
    "std_error"
   ]
  },
  {
   "cell_type": "code",
   "execution_count": 16,
   "metadata": {},
   "outputs": [
    {
     "name": "stdout",
     "output_type": "stream",
     "text": [
      "alpha:\n",
      "10% : not significant   5% : not significant   1% : not significant   \n",
      "beta:\n",
      "10% : significant       5% : significant       1% : significant       \n"
     ]
    },
    {
     "name": "stderr",
     "output_type": "stream",
     "text": [
      "/Users/leichunyan/anaconda3/lib/python3.6/site-packages/ipykernel_launcher.py:1: RuntimeWarning: divide by zero encountered in true_divide\n",
      "  \"\"\"Entry point for launching an IPython kernel.\n"
     ]
    }
   ],
   "source": [
    "t_value = b_ols/std_error\n",
    "\n",
    "level={0.1:0.95, 0.05:0.975,0.01:0.995}\n",
    "df=n-k-1\n",
    "for i in range(xMat.shape[1]):\n",
    "    if i == 0:\n",
    "        print(\"alpha:\")\n",
    "    elif i == 1:\n",
    "        print(\"beta:\")\n",
    "    elif i == 2:\n",
    "        print(\"gamma\")\n",
    "    for key, value in level.items():\n",
    "        if abs(t_value[i,i]) > t.ppf(value, df):\n",
    "            print(\"%d%% : significant      \"% (key*100) , end=\" \")\n",
    "        else:\n",
    "            print(\"%d%% : not significant  \"% (key*100), end=\" \")\n",
    "    print()"
   ]
  },
  {
   "cell_type": "markdown",
   "metadata": {},
   "source": [
    "From the p value calculated above, we can find that $\\alpha$ is not significantly different than 0 at all confidence levels, <br/> $\\beta$ is significantly different than 0 at all confidence levels."
   ]
  },
  {
   "cell_type": "markdown",
   "metadata": {},
   "source": [
    "### (e). ###\n",
    "Assess whether there is significant evidence for heteroskedasticity."
   ]
  },
  {
   "cell_type": "markdown",
   "metadata": {},
   "source": [
    "White test  \n",
    "(1) Run a regression\n",
    "$$ \n",
    "\\hat{u_t}^2 = \\alpha_1 + \\alpha_2x_t + \\alpha_3 x_t^2 +v_t\n",
    "$$"
   ]
  },
  {
   "cell_type": "code",
   "execution_count": 17,
   "metadata": {},
   "outputs": [],
   "source": [
    "data[\"(Mkt-RF)^2\"] = X*X\n",
    "X_white = data[[\"Mkt-RF\",\"(Mkt-RF)^2\"]]\n",
    "xMat_white = np.mat(X_white).T\n",
    "intercept = np.ones((X_white.shape[0], 1))\n",
    "xMat_white = np.concatenate((intercept, xMat_white.T), axis = 1)\n",
    "xTx_white = xMat_white.transpose()*xMat_white #X'X\n",
    "\n",
    "yMat_white = np.square(epsilon)\n",
    "b_ols_white = np.linalg.inv(xTx_white)*xMat_white.transpose()*yMat_white"
   ]
  },
  {
   "cell_type": "markdown",
   "metadata": {},
   "source": [
    "(2) calculate $R^2$"
   ]
  },
  {
   "cell_type": "code",
   "execution_count": 18,
   "metadata": {},
   "outputs": [
    {
     "name": "stdout",
     "output_type": "stream",
     "text": [
      "R-squared is 0.0286\n"
     ]
    }
   ],
   "source": [
    "y_hat_white = np.dot(xMat_white, b_ols_white)\n",
    "epsilon_white = yMat_white - y_hat_white\n",
    "\n",
    "spread_white = yMat_white - yMat_white.mean()\n",
    "\n",
    "Rsquared_white = 1 - np.sum(np.square(epsilon_white))/np.sum(np.square(spread_white))\n",
    "\n",
    "print(\"R-squared is %.4f\" % Rsquared_white)"
   ]
  },
  {
   "cell_type": "markdown",
   "metadata": {},
   "source": [
    "(3). whether $nR^2 \\sim \\chi_{df}^2$  "
   ]
  },
  {
   "cell_type": "code",
   "execution_count": 19,
   "metadata": {},
   "outputs": [
    {
     "name": "stdout",
     "output_type": "stream",
     "text": [
      "The white test statistics is 6.901288\n",
      "There is heteroskedasticity at 1.0 % level\n",
      "There is heteroskedasticity at 5.0 % level\n",
      "There is heteroskedasticity at 10.0 % level\n"
     ]
    }
   ],
   "source": [
    "n = xMat_white.shape[0]\n",
    "stats_white = n * Rsquared_white\n",
    "print(\"The white test statistics is %.6f\" % stats_white)\n",
    "\n",
    "for i in [0.01,0.05,0.1]:\n",
    "    if stats_white<chi2.ppf(i,2):\n",
    "        print(\"There is heteroskedasticity at\", i*100,\"% level\")\n",
    "    else:\n",
    "        print(\"There is heteroskedasticity at\", i*100,\"% level\")"
   ]
  },
  {
   "cell_type": "markdown",
   "metadata": {},
   "source": [
    "### (f). ###\n",
    "Compute standard errors and the 90%, 95% and 99% confidence intervals under the assumption of homoskedasticity."
   ]
  },
  {
   "cell_type": "code",
   "execution_count": 20,
   "metadata": {},
   "outputs": [
    {
     "name": "stdout",
     "output_type": "stream",
     "text": [
      "              Confidence Interval            \n",
      "----------------------------------------------\n",
      "            90%           95%           99%\n",
      "alpha  -0.00, 0.01   -0.00, 0.01   -0.00, 0.01\n",
      "beta    0.37, 0.65    0.34, 0.68    0.31, 0.71\n"
     ]
    }
   ],
   "source": [
    "print(\"              Confidence Interval            \")\n",
    "print(\"----------------------------------------------\")\n",
    "print(\"            90%           95%           99%\")\n",
    "print(\"alpha  %.2f, %.2f   %.2f, %.2f   %.2f, %.2f\"% \n",
    "      (b_ols[0,0]-1.65*std_error[0,0], b_ols[0,0]+1.65*std_error[0,0],\n",
    "       b_ols[0,0]-1.96*std_error[0,0], b_ols[0,0]+1.96*std_error[0,0],\n",
    "       b_ols[0,0]-2.33*std_error[0,0], b_ols[0,0]+2.33*std_error[0,0],\n",
    "      ))\n",
    "print(\"beta    %.2f, %.2f    %.2f, %.2f    %.2f, %.2f\"% \n",
    "      (b_ols[1,0]-1.65*std_error[1,1], b_ols[1,0]+1.65*std_error[1,1],\n",
    "       b_ols[1,0]-1.96*std_error[1,1], b_ols[1,0]+1.96*std_error[1,1],\n",
    "       b_ols[1,0]-2.33*std_error[1,1], b_ols[1,0]+2.33*std_error[1,1],\n",
    "      ))"
   ]
  },
  {
   "cell_type": "markdown",
   "metadata": {},
   "source": [
    "### (g). ###\n",
    "Compute the variance-covariance matrix of the OLS coefficients under the assumption of heteroskedas- ticity."
   ]
  },
  {
   "cell_type": "code",
   "execution_count": 21,
   "metadata": {},
   "outputs": [
    {
     "data": {
      "text/plain": [
       "matrix([[ 3.70347829e-02, -5.36948486e+00],\n",
       "        [-5.36948486e+00,  8.60722167e+02]])"
      ]
     },
     "execution_count": 21,
     "metadata": {},
     "output_type": "execute_result"
    }
   ],
   "source": [
    "tmp = np.sum(xMat*xMat.transpose()* np.square(epsilon))\n",
    "V_hetero = np.linalg.inv(xTx)*tmp*np.linalg.inv(xTx)\n",
    "V_hetero"
   ]
  },
  {
   "cell_type": "markdown",
   "metadata": {},
   "source": [
    "### (h). ###\n",
    "Compute standard errors and the 90%, 95% and 99% confidence intervals using the White variance- covariance matrix."
   ]
  },
  {
   "cell_type": "code",
   "execution_count": 22,
   "metadata": {},
   "outputs": [
    {
     "name": "stderr",
     "output_type": "stream",
     "text": [
      "/Users/leichunyan/anaconda3/lib/python3.6/site-packages/ipykernel_launcher.py:1: RuntimeWarning: invalid value encountered in sqrt\n",
      "  \"\"\"Entry point for launching an IPython kernel.\n"
     ]
    },
    {
     "data": {
      "text/plain": [
       "matrix([[ 0.19244423,  0.        ],\n",
       "        [ 0.        , 29.33806686]])"
      ]
     },
     "execution_count": 22,
     "metadata": {},
     "output_type": "execute_result"
    }
   ],
   "source": [
    "std_error_hetero = np.sqrt(V_hetero)\n",
    "where_are_NaNs_2 = isnan(std_error_hetero)\n",
    "std_error_hetero[where_are_NaNs_2] = 0  # fill nan\n",
    "std_error_hetero"
   ]
  },
  {
   "cell_type": "code",
   "execution_count": 23,
   "metadata": {},
   "outputs": [
    {
     "name": "stdout",
     "output_type": "stream",
     "text": [
      "          Confidence Interval(Hetero)            \n",
      "-------------------------------------------------\n",
      "            90%           95%            99%\n",
      "alpha  -0.31, 0.32   -0.37, 0.38    -0.44, 0.45\n",
      "beta  -47.90, 48.92  -56.99, 58.01  -67.85, 68.87\n"
     ]
    }
   ],
   "source": [
    "print(\"          Confidence Interval(Hetero)            \")\n",
    "print(\"-------------------------------------------------\")\n",
    "print(\"            90%           95%            99%\")\n",
    "print(\"alpha  %.2f, %.2f   %.2f, %.2f    %.2f, %.2f\"% \n",
    "      (b_ols[0,0]-1.65*std_error_hetero[0,0], b_ols[0,0]+1.65*std_error_hetero[0,0],\n",
    "       b_ols[0,0]-1.96*std_error_hetero[0,0], b_ols[0,0]+1.96*std_error_hetero[0,0],\n",
    "       b_ols[0,0]-2.33*std_error_hetero[0,0], b_ols[0,0]+2.33*std_error_hetero[0,0],\n",
    "      ))\n",
    "print(\"beta  %.2f, %.2f  %.2f, %.2f  %.2f, %.2f\"% \n",
    "      (b_ols[1,0]-1.65*std_error_hetero[1,1], b_ols[1,0]+1.65*std_error_hetero[1,1],\n",
    "       b_ols[1,0]-1.96*std_error_hetero[1,1], b_ols[1,0]+1.96*std_error_hetero[1,1],\n",
    "       b_ols[1,0]-2.33*std_error_hetero[1,1], b_ols[1,0]+2.33*std_error_hetero[1,1],\n",
    "      ))"
   ]
  },
  {
   "cell_type": "markdown",
   "metadata": {},
   "source": [
    "### (i). ###\n",
    "Use t-tests to test the null hypothesis that each regression coefficient is individually equal to 0 under the assumption of heteroskedasticity."
   ]
  },
  {
   "cell_type": "code",
   "execution_count": 24,
   "metadata": {},
   "outputs": [
    {
     "name": "stdout",
     "output_type": "stream",
     "text": [
      "alpha:\n",
      "10% : not significant   5% : not significant   1% : not significant   \n",
      "beta:\n",
      "10% : significant       5% : significant       1% : significant       \n"
     ]
    },
    {
     "name": "stderr",
     "output_type": "stream",
     "text": [
      "/Users/leichunyan/anaconda3/lib/python3.6/site-packages/ipykernel_launcher.py:1: RuntimeWarning: divide by zero encountered in true_divide\n",
      "  \"\"\"Entry point for launching an IPython kernel.\n"
     ]
    }
   ],
   "source": [
    "tvalue = (b_ols)/std_error_hetero\n",
    "level={0.1:0.95, 0.05:0.975,0.01:0.995}\n",
    "df=n-k-1\n",
    "for i in range(xMat.shape[1]):\n",
    "    if i == 0:\n",
    "        print(\"alpha:\")\n",
    "    elif i == 1:\n",
    "        print(\"beta:\")\n",
    "    elif i == 2:\n",
    "        print(\"gamma\")\n",
    "    for key, value in level.items():\n",
    "        if abs(t_value[i,i]) > t.ppf(value, df):\n",
    "            print(\"%d%% : significant      \"% (key*100) , end=\" \")\n",
    "        else:\n",
    "            print(\"%d%% : not significant  \"% (key*100), end=\" \")\n",
    "    print()"
   ]
  },
  {
   "cell_type": "markdown",
   "metadata": {},
   "source": [
    "From the p-value calculated above, we know that under the assumption of heteroskedasticity,$\\beta$ is significantly different than 0,$\\alpha$ is not significantly different than 0."
   ]
  },
  {
   "cell_type": "markdown",
   "metadata": {},
   "source": [
    "### (j). ###\n",
    "Compute the AIC, BIC and Hannah-Quinn ICs."
   ]
  },
  {
   "cell_type": "code",
   "execution_count": 25,
   "metadata": {},
   "outputs": [
    {
     "name": "stdout",
     "output_type": "stream",
     "text": [
      "AIC:  -1994.1414\n",
      "BIC:  -1976.2022\n",
      "HQIC: -1991.3335\n"
     ]
    }
   ],
   "source": [
    "logLike = -n/2*(np.log(2*math.pi)+1)-n/2*np.log(np.sum(sigma_squared)/n)\n",
    "AIC = -2*logLike + 2*k\n",
    "BIC = -2*logLike + 2*k*np.log(n)\n",
    "HQIC = -2*logLike + 2*k*log(log(n))  # Hannah-Quinn IC\n",
    "\n",
    "print(\"AIC:  %.4f\"%AIC)\n",
    "print(\"BIC:  %.4f\"%BIC)\n",
    "print(\"HQIC: %.4f\"%HQIC)"
   ]
  },
  {
   "cell_type": "markdown",
   "metadata": {},
   "source": [
    "### (k). ###\n",
    "Compute the Durbin-Watson and Breusch-Godfrey test statistics. What do these tests tell you?"
   ]
  },
  {
   "cell_type": "markdown",
   "metadata": {},
   "source": [
    "$$\n",
    "DW = \\frac{\\sum_{t=2}^T(\\hat{u}_t-\\hat{u}_{t-1})^2}{\\sum_{t=2}^T\\hat{u_t}^2}\n",
    "$$"
   ]
  },
  {
   "cell_type": "markdown",
   "metadata": {},
   "source": [
    "___Durbin-Watson___"
   ]
  },
  {
   "cell_type": "code",
   "execution_count": 26,
   "metadata": {},
   "outputs": [],
   "source": [
    "epsilon_df = pd.DataFrame([epsilon[i,0] for i in range(epsilon.shape[0])])\n",
    "DW = np.sum(np.square(epsilon_df.diff().dropna())/np.sum(np.square(epsilon[1:])))"
   ]
  },
  {
   "cell_type": "markdown",
   "metadata": {},
   "source": [
    "DW is around 2 means there is no autocorrelation."
   ]
  },
  {
   "cell_type": "markdown",
   "metadata": {},
   "source": [
    "___Breusch-Godfrey___"
   ]
  },
  {
   "cell_type": "markdown",
   "metadata": {},
   "source": [
    "(1). Run a regression\n",
    "$$\n",
    "u_t = \\rho_1 u_{t-1} + \\rho_2 u_{t-2}+v_t\n",
    "$$"
   ]
  },
  {
   "cell_type": "code",
   "execution_count": 27,
   "metadata": {},
   "outputs": [],
   "source": [
    "u_lag1 = np.matrix(epsilon_df.shift(1).fillna(0))\n",
    "u_lag2 = np.matrix(epsilon_df.shift(2).fillna(0))"
   ]
  },
  {
   "cell_type": "code",
   "execution_count": 28,
   "metadata": {},
   "outputs": [
    {
     "name": "stdout",
     "output_type": "stream",
     "text": [
      "Breusch-Godfrey test statistics is 0.6225\n",
      "The is no autocorrelation at 1.0 % level\n",
      "The is no autocorrelation at 5.0 % level\n",
      "The is no autocorrelation at 10.0 % level\n"
     ]
    }
   ],
   "source": [
    "u_lag = np.concatenate((u_lag1, u_lag2),axis=1)\n",
    "uTu = u_lag.transpose()*u_lag\n",
    "b_ols_u = np.linalg.inv(uTu)*u_lag.transpose()*epsilon\n",
    "\n",
    "u_hat = np.dot(u_lag, b_ols_u)\n",
    "u_vt = epsilon - u_hat\n",
    "\n",
    "spread_u = epsilon - epsilon.mean()\n",
    "\n",
    "Rsquared_u = 1 - np.sum(np.square(u_vt))/np.sum(np.square(spread_u))\n",
    "#print(\"R-squared is %.4f\" % Rsquared_u)\n",
    "BG = (epsilon.shape[0] - 2)*Rsquared_u\n",
    "print(\"Breusch-Godfrey test statistics is %.4f\"%BG)\n",
    "\n",
    "for i in [0.01,0.05,0.1]:\n",
    "    if BG<chi2.ppf(i,2):\n",
    "        print(\"There is no autocorrelation\",i*100,\"% level\")\n",
    "    else:\n",
    "        print(\"The is no autocorrelation at\",i*100,\"% level\")"
   ]
  },
  {
   "cell_type": "markdown",
   "metadata": {},
   "source": [
    "### (i). ###\n",
    "Use QQ plots and formal tests to check whether the errors normally distributed."
   ]
  },
  {
   "cell_type": "code",
   "execution_count": 29,
   "metadata": {},
   "outputs": [
    {
     "data": {
      "image/png": "[encoded data removed]",
      "text/plain": [
       "<matplotlib.figure.Figure at 0x1c1aec3978>"
      ]
     },
     "metadata": {},
     "output_type": "display_data"
    }
   ],
   "source": [
    "## QQ plot\n",
    "sm.qqplot(epsilon, line='s')\n",
    "pylab.show()"
   ]
  },
  {
   "cell_type": "code",
   "execution_count": 31,
   "metadata": {},
   "outputs": [
    {
     "name": "stdout",
     "output_type": "stream",
     "text": [
      "JB statistics is 140.8859\n",
      "The errors are not normally distributed at 1.0 % level\n",
      "The errors are not normally distributed at 5.0 % level\n",
      "The errors are not normally distributed at 10.0 % level\n"
     ]
    }
   ],
   "source": [
    "# Jarque-Bera (JB) test\n",
    "import scipy.stats as stats\n",
    "JB = n/6 *(np.power(stats.skew(epsilon),2) + np.power(stats.kurtosis(epsilon), 3)/4)\n",
    "print(\"JB statistics is %.4f\"%JB)\n",
    "for i in [0.01,0.05,0.1]:\n",
    "    if JB<chi2.ppf(i,2):\n",
    "        print(\"The errors are normally distributed at\",i*100,\"% level\")\n",
    "    else:\n",
    "        print(\"The errors are not normally distributed at\",i*100,\"% level\")"
   ]
  },
  {
   "cell_type": "markdown",
   "metadata": {},
   "source": [
    "### (m). ###\n",
    "Check whether the regressions exhibit multicollinearity."
   ]
  },
  {
   "cell_type": "code",
   "execution_count": 32,
   "metadata": {},
   "outputs": [
    {
     "name": "stdout",
     "output_type": "stream",
     "text": [
      "There is no multicolinearity\n"
     ]
    }
   ],
   "source": [
    "if k-1 == 1: # since there is a constant\n",
    "    print(\"There is no multicolinearity\")\n",
    "else:\n",
    "    print(\"Please judge by correlation matrix\")\n",
    "    print(\"np.corrcoef(X)\")"
   ]
  },
  {
   "cell_type": "markdown",
   "metadata": {},
   "source": [
    "### (n). ###\n",
    "Check whether there is evidence against the linear model specification."
   ]
  },
  {
   "cell_type": "code",
   "execution_count": 33,
   "metadata": {},
   "outputs": [
    {
     "name": "stdout",
     "output_type": "stream",
     "text": [
      "Ramsy test:\n",
      "beta 0 = 0.0047\n",
      "10% : not significant   5% : not significant   1% : not significant   \n",
      "Ramsy test:\n",
      "beta 1 = 0.3599\n",
      "10% : significant       5% : significant       1% : significant       \n",
      "Ramsy test:\n",
      "beta 2 = 1.5690\n",
      "10% : not significant   5% : not significant   1% : not significant   \n",
      "Ramsy test:\n",
      "beta 3 = 151.5220\n",
      "10% : not significant   5% : not significant   1% : not significant   \n"
     ]
    }
   ],
   "source": [
    "X_ramsy = np.concatenate((xMat, np.square(y_hat),np.power(y_hat,3)), axis = 1)\n",
    "xTx_ramsy = X_ramsy.transpose()*X_ramsy #X'X\n",
    "b_ols_ramsy = np.linalg.inv(xTx_ramsy)*X_ramsy.transpose()*yMat\n",
    "\n",
    "y_hat_ramsy = np.dot(xMat, b_ols)\n",
    "epsilon_ramsy = yMat - y_hat_ramsy\n",
    "\n",
    "sigma_square_ramsy = np.sum(np.square(epsilon_ramsy))/(n-k-1)\n",
    "\n",
    "V_ramsy = np.linalg.inv(xTx_ramsy)*sigma_square_ramsy\n",
    "t_ramsy = b_ols_ramsy/np.sqrt(V_ramsy.diagonal()).transpose()\n",
    "\n",
    "# two-side\n",
    "level={0.1:0.95, 0.05:0.975,0.01:0.995}\n",
    "df=n-k-1\n",
    "for i in range(X_ramsy.shape[1]):\n",
    "    print(\"Ramsy test:\")\n",
    "    print(\"beta %d = %.4f\" %(i, b_ols_ramsy[i]))\n",
    "    for key, value in level.items():\n",
    "        if abs(t_ramsy[i,0]) > t.ppf(value, df):\n",
    "            print(\"%d%% : significant      \"% (key*100) , end=\" \")\n",
    "        else:\n",
    "            print(\"%d%% : not significant  \"% (key*100), end=\" \")\n",
    "    print()"
   ]
  },
  {
   "cell_type": "markdown",
   "metadata": {},
   "source": [
    "Only the coefficient of the linear item is significant, which means there is no evidence against the linear model specification."
   ]
  },
  {
   "cell_type": "markdown",
   "metadata": {},
   "source": [
    "### (o). ###\n",
    "Run rolling regressions with 60-month windows and plot the β coefficients along with their 95% confidence intervals. What do you learn from these regressions?"
   ]
  },
  {
   "cell_type": "code",
   "execution_count": 34,
   "metadata": {},
   "outputs": [],
   "source": [
    "data[\"alpha_rolling\"] = ''\n",
    "data[\"beta_rolling\"] = ''\n",
    "for i in range(n-60):\n",
    "    \n",
    "    xMat_r = xMat[i:i+60] # r means rolling\n",
    "    yMat_r = yMat[i:i+60]\n",
    "    \n",
    "    xTx_r = xMat_r.transpose()*xMat_r #X'X\n",
    "    b_ols_r = np.linalg.inv(xTx_r)*xMat_r.transpose()*yMat_r\n",
    "    \n",
    "    data.iloc[i+60,7] = b_ols_r[0,0]\n",
    "    data.iloc[i+60,8] = b_ols_r[1,0]"
   ]
  },
  {
   "cell_type": "code",
   "execution_count": 35,
   "metadata": {},
   "outputs": [
    {
     "data": {
      "text/plain": [
       "Text(0.5,1,'coefficient alpha')"
      ]
     },
     "execution_count": 35,
     "metadata": {},
     "output_type": "execute_result"
    },
    {
     "data": {
      "image/png": "[encoded data removed]",
      "text/plain": [
       "<matplotlib.figure.Figure at 0x1c22ae1860>"
      ]
     },
     "metadata": {},
     "output_type": "display_data"
    }
   ],
   "source": [
    "plt.plot(data.iloc[60:n,7])\n",
    "plt.title(\"coefficient alpha\")"
   ]
  },
  {
   "cell_type": "code",
   "execution_count": 36,
   "metadata": {},
   "outputs": [
    {
     "data": {
      "text/plain": [
       "Text(0.5,1,'coefficient beta')"
      ]
     },
     "execution_count": 36,
     "metadata": {},
     "output_type": "execute_result"
    },
    {
     "data": {
      "image/png": "[encoded data removed]",
      "text/plain": [
       "<matplotlib.figure.Figure at 0x1c22bc7198>"
      ]
     },
     "metadata": {},
     "output_type": "display_data"
    }
   ],
   "source": [
    "plt.plot(data.iloc[60:n,8])\n",
    "plt.title(\"coefficient beta\")"
   ]
  },
  {
   "cell_type": "markdown",
   "metadata": {},
   "source": [
    "From the regression, we know that the coefficients are not stable."
   ]
  },
  {
   "cell_type": "code",
   "execution_count": null,
   "metadata": {},
   "outputs": [],
   "source": []
  },
  {
   "cell_type": "code",
   "execution_count": null,
   "metadata": {},
   "outputs": [],
   "source": []
  }
 ],
 "metadata": {
  "kernelspec": {
   "display_name": "Python 3",
   "language": "python",
   "name": "python3"
  },
  "language_info": {
   "codemirror_mode": {
    "name": "ipython",
    "version": 3
   },
   "file_extension": ".py",
   "mimetype": "text/x-python",
   "name": "python",
   "nbconvert_exporter": "python",
   "pygments_lexer": "ipython3",
   "version": "3.6.4"
  }
 },
 "nbformat": 4,
 "nbformat_minor": 2
}
